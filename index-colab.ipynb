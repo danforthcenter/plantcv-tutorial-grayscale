{
 "cells": [
  {
   "cell_type": "markdown",
   "id": "deb79d20",
   "metadata": {},
   "source": [
    "# Grayscale tutorial\n",
    "\n",
    "Analyze grayscale image data and extract pixel intensity information from an object of interest. "
   ]
  },
  {
   "cell_type": "code",
   "execution_count": null,
   "id": "6ff68735-1ba9-4f48-8495-ba11ba21f272",
   "metadata": {
    "tags": []
   },
   "outputs": [],
   "source": [
    "# Install PlantCV and required dependencies\n",
    "%pip install \"altair>=5\" ipympl plantcv\n",
    "\n",
    "# Give access and mount your Google Drive (need a Google Account)\n",
    "# Change path to directory you wish output files to be saved to.\n",
    "from google.colab import drive\n",
    "drive.mount('/content/gdrive')\n",
    "\n",
    "# Enable widget feature with matplotlib\n",
    "from google.colab import output\n",
    "output.enable_custom_widget_manager()\n",
    "\n",
    "#View working directory, may need to change path\n",
    "%pwd"
   ]
  },
  {
   "cell_type": "markdown",
   "id": "c4c0009b-61ac-407d-a0d5-0a332865f8b8",
   "metadata": {
    "id": "604065b5"
   },
   "source": [
    "# Section 1: Importing Image and Libraries"
   ]
  },
  {
   "cell_type": "code",
   "execution_count": null,
   "id": "b09d6b3a-7e47-474e-ae48-d37446d47383",
   "metadata": {
    "id": "62ef791b"
   },
   "outputs": [],
   "source": [
    "# Set the notebook display method\n",
    "# If widget is not working, click Runtime > Restart Session and run again from the top.\n",
    "%matplotlib widget\n",
    "\n",
    "# Import libraries\n",
    "from plantcv import plantcv as pcv\n",
    "from plantcv.parallel import WorkflowInputs\n",
    "\n",
    "# Print out the version of PlantCV being used by the Jupyter kernel\n",
    "pcv.__version__"
   ]
  },
  {
   "cell_type": "markdown",
   "id": "eb302e90-7f62-490e-bdff-63e73f1cfc09",
   "metadata": {
    "id": "4468af74"
   },
   "source": [
    "## Input/Output variables\n",
    "\n",
    "The options class mimics the workflow command-line argument parser that is used for workflow parallelization. Using it while developing a workflow in Jupyter makes it easier to convert the workflow to a script later. Remember, always keep your raw images separate from your newly processed images!"
   ]
  },
  {
   "cell_type": "code",
   "execution_count": null,
   "id": "1e7e9b03",
   "metadata": {
    "tags": []
   },
   "outputs": [],
   "source": [
    "# Input/output options\n",
    "args = WorkflowInputs(\n",
    "    images=[\"https://raw.githubusercontent.com/danforthcenter/plantcv-tutorial-grayscale/main/img/gray.png\"],    \n",
    "    names=\"image1\",\n",
    "    result=\"gray_results.json\",\n",
    "    outdir=\".\",\n",
    "    writeimg=True,\n",
    "    debug=\"plot\"\n",
    "    )"
   ]
  },
  {
   "cell_type": "code",
   "execution_count": null,
   "id": "2b28b5f3-abfc-4ddf-a0f7-1d3191d198a8",
   "metadata": {},
   "outputs": [],
   "source": [
    "# Set debug to the global parameter \n",
    "pcv.params.debug = args.debug\n",
    "# Change display settings\n",
    "pcv.params.dpi = 100\n",
    "# Increase text size and thickness to make labels clearer\n",
    "# (size may need to be altered based on original image size)\n",
    "pcv.params.text_size = 20\n",
    "pcv.params.text_thickness = 20"
   ]
  },
  {
   "cell_type": "markdown",
   "id": "afe25ced-e98f-4bbd-b5b6-efa36f145b27",
   "metadata": {
    "id": "343a0816"
   },
   "source": [
    "## Read the input image"
   ]
  },
  {
   "cell_type": "markdown",
   "id": "70ac54de-6623-49c1-ba98-483e3ffdae19",
   "metadata": {
    "id": "pnZYaudIgcHd"
   },
   "source": [
    "### Google Colaboratory Users:\n",
    "If you are running this notebook using Google Colaboratory, you will need to use the cell below to complete the tutorial unless you cloned the repository from GitHub to your personal Google Drive account. Once you begin developing your workflow for your data, you can delete this text cell and the code cell below so you avoid any conflicts the next time you use this notebook."
   ]
  },
  {
   "cell_type": "code",
   "execution_count": null,
   "id": "4f3a6842-8589-43d5-ad6a-48bd769078a8",
   "metadata": {
    "id": "3ItGZYvOyOir"
   },
   "outputs": [],
   "source": [
    "img = pcv.io.open_url(url=args.image1)"
   ]
  },
  {
   "cell_type": "markdown",
   "id": "799fdc51-b39f-4c3c-8fa6-49781cb768e7",
   "metadata": {
    "id": "Q4Na59TNNg1x"
   },
   "source": [
    "### Reading images into your environment using *pcv.readimage()*\n",
    "Inputs:\n",
    "   * filename = Image file to be read in\n",
    "   * mode     = How the image will be read into the notebook; either 'native' (default), 'rgb', 'gray', 'csv', or 'envi'"
   ]
  },
  {
   "cell_type": "code",
   "execution_count": null,
   "id": "964f1012",
   "metadata": {
    "tags": []
   },
   "outputs": [],
   "source": [
    "# Read in the grayscale data \n",
    "# When developing your own workflow in Colaboratory, remove the # from the line below to activate the code.\n",
    "# img, filename, path = pcv.readimage(filename=args.image1)"
   ]
  },
  {
   "cell_type": "code",
   "execution_count": null,
   "id": "moving-sheet",
   "metadata": {
    "tags": []
   },
   "outputs": [],
   "source": [
    "# Creates a binary image from a gray image\n",
    "\n",
    "bin_img = pcv.threshold.otsu(gray_img=img, object_type=\"light\")"
   ]
  },
  {
   "cell_type": "code",
   "execution_count": null,
   "id": "trying-choir",
   "metadata": {
    "tags": []
   },
   "outputs": [],
   "source": [
    "# Complete a flood fill to include false negative signal\n",
    "\n",
    "mask = pcv.fill_holes(bin_img=bin_img)\n"
   ]
  },
  {
   "cell_type": "code",
   "execution_count": null,
   "id": "breeding-entertainment",
   "metadata": {
    "tags": []
   },
   "outputs": [],
   "source": [
    "# Analyze grayscale intensity values of the plant \n",
    "\n",
    "analysis_image  = pcv.analyze.grayscale(gray_img=img, labeled_mask=mask,\n",
    "                                        n_labels=1, bins=100, \n",
    "                                        label=\"default\")\n"
   ]
  },
  {
   "cell_type": "code",
   "execution_count": null,
   "id": "turkish-franklin",
   "metadata": {
    "tags": []
   },
   "outputs": [],
   "source": [
    "# Save stored data out to a file \n",
    "\n",
    "pcv.outputs.save_results(filename=args.result)\n"
   ]
  },
  {
   "cell_type": "code",
   "execution_count": null,
   "id": "1f5f56b0-a98f-455c-9971-0b5f10006fc3",
   "metadata": {},
   "outputs": [],
   "source": []
  }
 ],
 "metadata": {
  "kernelspec": {
   "display_name": "Python 3 (ipykernel)",
   "language": "python",
   "name": "python3"
  },
  "language_info": {
   "codemirror_mode": {
    "name": "ipython",
    "version": 3
   },
   "file_extension": ".py",
   "mimetype": "text/x-python",
   "name": "python",
   "nbconvert_exporter": "python",
   "pygments_lexer": "ipython3",
   "version": "3.11.10"
  }
 },
 "nbformat": 4,
 "nbformat_minor": 5
}
